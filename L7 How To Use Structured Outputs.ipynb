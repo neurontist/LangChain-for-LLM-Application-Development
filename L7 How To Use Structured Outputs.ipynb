{
  "nbformat": 4,
  "nbformat_minor": 0,
  "metadata": {
    "colab": {
      "provenance": [],
      "authorship_tag": "ABX9TyNBJOQq4aH0rqPerc5650AN",
      "include_colab_link": true
    },
    "kernelspec": {
      "name": "python3",
      "display_name": "Python 3"
    },
    "language_info": {
      "name": "python"
    }
  },
  "cells": [
    {
      "cell_type": "markdown",
      "metadata": {
        "id": "view-in-github",
        "colab_type": "text"
      },
      "source": [
        "<a href=\"https://colab.research.google.com/github/neurontist/LangChain-for-LLM-Application-Development/blob/main/L7%20How%20To%20Use%20Structured%20Outputs.ipynb\" target=\"_parent\"><img src=\"https://colab.research.google.com/assets/colab-badge.svg\" alt=\"Open In Colab\"/></a>"
      ]
    },
    {
      "cell_type": "markdown",
      "source": [
        "# How To Use Structured Outputs"
      ],
      "metadata": {
        "id": "RcAOh1Ira3v9"
      }
    },
    {
      "cell_type": "code",
      "source": [
        "# Warning control\n",
        "import warnings\n",
        "warnings.filterwarnings('ignore')"
      ],
      "metadata": {
        "id": "wfQRvOwZQwaU"
      },
      "execution_count": null,
      "outputs": []
    },
    {
      "cell_type": "code",
      "source": [
        "from google import genai\n",
        "from pydantic import BaseModel\n",
        "from typing import Optional"
      ],
      "metadata": {
        "id": "Ny_jzAKuSmOr"
      },
      "execution_count": null,
      "outputs": []
    },
    {
      "cell_type": "code",
      "source": [
        "import os\n",
        "from google.colab import userdata\n",
        "\n",
        "GOOGLE_API_KEY = userdata.get('GOOGLE_API_KEY')\n",
        "client = genai.Client(api_key=GOOGLE_API_KEY)"
      ],
      "metadata": {
        "id": "zBJGHou4PIyO"
      },
      "execution_count": null,
      "outputs": []
    },
    {
      "cell_type": "markdown",
      "source": [
        "### Define structure with Pydantic"
      ],
      "metadata": {
        "id": "--7Z1THLRJKx"
      }
    },
    {
      "cell_type": "code",
      "source": [
        "model = \"gemini-2.0-flash\""
      ],
      "metadata": {
        "id": "MH_wDegRTD5U"
      },
      "execution_count": null,
      "outputs": []
    },
    {
      "cell_type": "code",
      "source": [
        "class User(BaseModel):\n",
        "  name:str\n",
        "  age:int\n",
        "  email:Optional[str] = None"
      ],
      "metadata": {
        "id": "uFLYdQKgQKEF"
      },
      "execution_count": null,
      "outputs": []
    },
    {
      "cell_type": "code",
      "source": [
        "response = client.models.generate_content(\n",
        "    model=model,\n",
        "    contents = [\n",
        "        {\"role\": \"model\", \"parts\": [{\"text\":\"You are a helpful assistant.\"}]},\n",
        "        {\"role\": \"user\", \"parts\": [{\"text\":\"Make up a user.\"}]},\n",
        "    ],\n",
        "    config={\n",
        "        \"response_mime_type\":\"application/json\",\n",
        "        \"response_schema\":User,\n",
        "    },\n",
        ")\n",
        "\n",
        "print(response.text)\n",
        "user= response.parsed\n",
        "print(user.name)"
      ],
      "metadata": {
        "colab": {
          "base_uri": "https://localhost:8080/"
        },
        "id": "Sfa9SFIQS8rp",
        "outputId": "f1f8ca61-3223-408d-8d3e-5dc0039355a0"
      },
      "execution_count": null,
      "outputs": [
        {
          "output_type": "stream",
          "name": "stdout",
          "text": [
            "{\n",
            "  \"name\": \"John Doe\",\n",
            "  \"age\": 30,\n",
            "  \"email\": \"john.doe@example.com\"\n",
            "}\n",
            "John Doe\n"
          ]
        }
      ]
    },
    {
      "cell_type": "markdown",
      "source": [
        "### The social media mention structure"
      ],
      "metadata": {
        "id": "5Tg9rsAIUWjq"
      }
    },
    {
      "cell_type": "code",
      "source": [
        "from pydantic import BaseModel\n",
        "from enum import Enum\n",
        "from typing import List,Optional,Literal\n",
        "from google import genai"
      ],
      "metadata": {
        "id": "8XARKWLjUUdw"
      },
      "execution_count": null,
      "outputs": []
    },
    {
      "cell_type": "markdown",
      "source": [
        "### Creating JSON Response Schema using **Pydantic**"
      ],
      "metadata": {
        "id": "aCta8odrBWdw"
      }
    },
    {
      "cell_type": "code",
      "source": [
        "class Mention(BaseModel):\n",
        "  # The model choose the product the mention is about\n",
        "  product: Literal['app','website','not_applicable']\n",
        "  # The sentiment of the mention\n",
        "  sentiment: Literal['negative','positive','neutral']\n",
        "  # If the model needs to respond to the user\n",
        "  needs_response: bool\n",
        "  response: Optional[str]\n",
        "  # If a support ticket needs to be opened and the model can write the description\n",
        "  support_ticket_decsp: Optional[str]"
      ],
      "metadata": {
        "id": "1nxidfzjWNHO"
      },
      "execution_count": null,
      "outputs": []
    },
    {
      "cell_type": "markdown",
      "source": [
        "### Using some examples to work with"
      ],
      "metadata": {
        "id": "H8HXUO-LBeRO"
      }
    },
    {
      "cell_type": "code",
      "source": [
        "# Example mentions\n",
        "mentions = [\n",
        "    # About the app\n",
        "    \"@techcorp your app is amazing! The new design is perfect\",\n",
        "    # Website is down, negative sentiment + needs a fix\n",
        "    \"@techcorp website is down again, please fix!\",\n",
        "    # Nothing to respond to\n",
        "    \"hey @techcorp you're so evil\"\n",
        "]"
      ],
      "metadata": {
        "id": "mz32-iMMWobM"
      },
      "execution_count": null,
      "outputs": []
    },
    {
      "cell_type": "markdown",
      "source": [
        "### Let's analyze the mentions as we want"
      ],
      "metadata": {
        "id": "iFDC42zdBhtS"
      }
    },
    {
      "cell_type": "code",
      "source": [
        "def analyze_mention(mention:str,personality:str = \"friendly\") -> Mention:\n",
        "  completion = client.models.generate_content(\n",
        "      model=model,\n",
        "      contents = [\n",
        "          {\"role\":\"model\",\n",
        "           \"parts\":[{\"text\":\n",
        "                     f\"\"\"\n",
        "           Extract structured information from\n",
        "                social media mentions about our products.\n",
        "\n",
        "                Provide\n",
        "                - The product mentioned (website, app, not applicable)\n",
        "                - The mention sentiment (positive, negative, neutral)\n",
        "                - Whether to respond (true/false). Don't respond to\n",
        "                  inflammatory messages or bait.\n",
        "                - Respond to positive mentions with a friendly message.\n",
        "                - A customized response to send to the user if we need\n",
        "                  to respond.\n",
        "                - An optional support ticket description to create.\n",
        "\n",
        "                Your personality is {personality}.\n",
        "\n",
        "           \"\"\"}]},\n",
        "          {\"role\":\"user\",\n",
        "           \"parts\":[{\"text\":mention}]}\n",
        "      ],\n",
        "      config={\n",
        "        \"response_mime_type\":\"application/json\",\n",
        "        \"response_schema\":Mention,\n",
        "    },\n",
        "  )\n",
        "  return completion"
      ],
      "metadata": {
        "id": "pF343kPGXDM_"
      },
      "execution_count": null,
      "outputs": []
    },
    {
      "cell_type": "code",
      "source": [
        "print(\"User post:\", mentions[0])\n",
        "processed_mention = analyze_mention(mentions[0])\n",
        "processed_mention.parsed.needs_response"
      ],
      "metadata": {
        "colab": {
          "base_uri": "https://localhost:8080/"
        },
        "id": "sn2BV0D_YPdt",
        "outputId": "1f28122d-6c27-44d8-a3a8-14d76827b36c"
      },
      "execution_count": null,
      "outputs": [
        {
          "output_type": "stream",
          "name": "stdout",
          "text": [
            "User post: @techcorp your app is amazing! The new design is perfect\n"
          ]
        },
        {
          "output_type": "execute_result",
          "data": {
            "text/plain": [
              "True"
            ]
          },
          "metadata": {},
          "execution_count": 24
        }
      ]
    },
    {
      "cell_type": "markdown",
      "source": [
        "## Programming with our mention"
      ],
      "metadata": {
        "id": "2Q8wPxYZ9SzL"
      }
    },
    {
      "cell_type": "code",
      "source": [
        "def print_mention(processed_mention,mention):\n",
        "  if processed_mention.parsed.needs_response:\n",
        "    print(f\"Responding to {processed_mention.parsed.sentiment} {processed_mention.parsed.product} feedback\")\n",
        "    print(f\"  User: {mention}\")\n",
        "    print(f\"  Response: {processed_mention.parsed.response}\")\n",
        "  else:\n",
        "      print(f\"Not responding to {processed_mention.parsed.sentiment} {processed_mention.parsed.product} post\")\n",
        "      print(f\"  User: {mention}\")\n",
        "  if processed_mention.parsed.support_ticket_decsp:\n",
        "    print(f\"  Support ticket description: {processed_mention.parsed.support_ticket_decsp}\")"
      ],
      "metadata": {
        "id": "_PP99lLp6UgC"
      },
      "execution_count": null,
      "outputs": []
    },
    {
      "cell_type": "markdown",
      "source": [
        "### Let's apply analyze to each mention and see how LLM responds to each"
      ],
      "metadata": {
        "id": "pj0NX0X-Bxe6"
      }
    },
    {
      "cell_type": "code",
      "source": [
        "rows = []\n",
        "\n",
        "for mention in mentions:\n",
        "  processed_mention = analyze_mention(mention)\n",
        "\n",
        "  print_mention(processed_mention,mention)\n",
        "  # converting processed_mention to dictionary to add mention key and the value\n",
        "  processed_mention_dict = processed_mention.model_dump()\n",
        "  processed_mention_dict['mention'] = mention\n",
        "\n",
        "  rows.append(processed_mention_dict)\n",
        "  print(\"\")"
      ],
      "metadata": {
        "colab": {
          "base_uri": "https://localhost:8080/"
        },
        "id": "kvn7c9XH7zv7",
        "outputId": "f04345af-d7b1-4780-8ace-3faa18c9e39b"
      },
      "execution_count": null,
      "outputs": [
        {
          "output_type": "stream",
          "name": "stdout",
          "text": [
            "Responding to positive app feedback\n",
            "  User: @techcorp your app is amazing! The new design is perfect\n",
            "  Response: Thanks so much for the kind words! We're so glad you're enjoying the new design.\n",
            "\n",
            "Responding to negative website feedback\n",
            "  User: @techcorp website is down again, please fix!\n",
            "  Response: We're so sorry you're having trouble accessing the website! Our team is on it and working hard to get it back up and running. We appreciate your patience!\n",
            "  Support ticket description: User reports website is down.\n",
            "\n",
            "Not responding to negative not_applicable post\n",
            "  User: hey @techcorp you're so evil\n",
            "\n"
          ]
        }
      ]
    },
    {
      "cell_type": "markdown",
      "source": [
        "### Representing in tabular format"
      ],
      "metadata": {
        "id": "bbm10enZCPEY"
      }
    },
    {
      "cell_type": "code",
      "source": [
        "import pandas as pd\n",
        "\n",
        "# Convert the 'rows' list into a Pandas DataFrame\n",
        "df = pd.DataFrame()\n",
        "for row in rows:\n",
        "  df = pd.concat([df,pd.DataFrame([row.get('parsed')])])\n",
        "\n",
        "df"
      ],
      "metadata": {
        "colab": {
          "base_uri": "https://localhost:8080/",
          "height": 319
        },
        "id": "AGjad5f59aUp",
        "outputId": "5840bfa8-b7de-4806-a02b-bd680798642c"
      },
      "execution_count": null,
      "outputs": [
        {
          "output_type": "execute_result",
          "data": {
            "text/plain": [
              "          product sentiment  needs_response  \\\n",
              "0             app  positive            True   \n",
              "0         website  negative            True   \n",
              "0  not_applicable  negative           False   \n",
              "\n",
              "                                            response  \\\n",
              "0  Thanks so much for the kind words! We're so gl...   \n",
              "0  We're so sorry you're having trouble accessing...   \n",
              "0                                               None   \n",
              "\n",
              "            support_ticket_decsp  \n",
              "0                           None  \n",
              "0  User reports website is down.  \n",
              "0                           None  "
            ],
            "text/html": [
              "\n",
              "  <div id=\"df-11f17821-a1db-47c8-81d7-cdd48eb46463\" class=\"colab-df-container\">\n",
              "    <div>\n",
              "<style scoped>\n",
              "    .dataframe tbody tr th:only-of-type {\n",
              "        vertical-align: middle;\n",
              "    }\n",
              "\n",
              "    .dataframe tbody tr th {\n",
              "        vertical-align: top;\n",
              "    }\n",
              "\n",
              "    .dataframe thead th {\n",
              "        text-align: right;\n",
              "    }\n",
              "</style>\n",
              "<table border=\"1\" class=\"dataframe\">\n",
              "  <thead>\n",
              "    <tr style=\"text-align: right;\">\n",
              "      <th></th>\n",
              "      <th>product</th>\n",
              "      <th>sentiment</th>\n",
              "      <th>needs_response</th>\n",
              "      <th>response</th>\n",
              "      <th>support_ticket_decsp</th>\n",
              "    </tr>\n",
              "  </thead>\n",
              "  <tbody>\n",
              "    <tr>\n",
              "      <th>0</th>\n",
              "      <td>app</td>\n",
              "      <td>positive</td>\n",
              "      <td>True</td>\n",
              "      <td>Thanks so much for the kind words! We're so gl...</td>\n",
              "      <td>None</td>\n",
              "    </tr>\n",
              "    <tr>\n",
              "      <th>0</th>\n",
              "      <td>website</td>\n",
              "      <td>negative</td>\n",
              "      <td>True</td>\n",
              "      <td>We're so sorry you're having trouble accessing...</td>\n",
              "      <td>User reports website is down.</td>\n",
              "    </tr>\n",
              "    <tr>\n",
              "      <th>0</th>\n",
              "      <td>not_applicable</td>\n",
              "      <td>negative</td>\n",
              "      <td>False</td>\n",
              "      <td>None</td>\n",
              "      <td>None</td>\n",
              "    </tr>\n",
              "  </tbody>\n",
              "</table>\n",
              "</div>\n",
              "    <div class=\"colab-df-buttons\">\n",
              "\n",
              "  <div class=\"colab-df-container\">\n",
              "    <button class=\"colab-df-convert\" onclick=\"convertToInteractive('df-11f17821-a1db-47c8-81d7-cdd48eb46463')\"\n",
              "            title=\"Convert this dataframe to an interactive table.\"\n",
              "            style=\"display:none;\">\n",
              "\n",
              "  <svg xmlns=\"http://www.w3.org/2000/svg\" height=\"24px\" viewBox=\"0 -960 960 960\">\n",
              "    <path d=\"M120-120v-720h720v720H120Zm60-500h600v-160H180v160Zm220 220h160v-160H400v160Zm0 220h160v-160H400v160ZM180-400h160v-160H180v160Zm440 0h160v-160H620v160ZM180-180h160v-160H180v160Zm440 0h160v-160H620v160Z\"/>\n",
              "  </svg>\n",
              "    </button>\n",
              "\n",
              "  <style>\n",
              "    .colab-df-container {\n",
              "      display:flex;\n",
              "      gap: 12px;\n",
              "    }\n",
              "\n",
              "    .colab-df-convert {\n",
              "      background-color: #E8F0FE;\n",
              "      border: none;\n",
              "      border-radius: 50%;\n",
              "      cursor: pointer;\n",
              "      display: none;\n",
              "      fill: #1967D2;\n",
              "      height: 32px;\n",
              "      padding: 0 0 0 0;\n",
              "      width: 32px;\n",
              "    }\n",
              "\n",
              "    .colab-df-convert:hover {\n",
              "      background-color: #E2EBFA;\n",
              "      box-shadow: 0px 1px 2px rgba(60, 64, 67, 0.3), 0px 1px 3px 1px rgba(60, 64, 67, 0.15);\n",
              "      fill: #174EA6;\n",
              "    }\n",
              "\n",
              "    .colab-df-buttons div {\n",
              "      margin-bottom: 4px;\n",
              "    }\n",
              "\n",
              "    [theme=dark] .colab-df-convert {\n",
              "      background-color: #3B4455;\n",
              "      fill: #D2E3FC;\n",
              "    }\n",
              "\n",
              "    [theme=dark] .colab-df-convert:hover {\n",
              "      background-color: #434B5C;\n",
              "      box-shadow: 0px 1px 3px 1px rgba(0, 0, 0, 0.15);\n",
              "      filter: drop-shadow(0px 1px 2px rgba(0, 0, 0, 0.3));\n",
              "      fill: #FFFFFF;\n",
              "    }\n",
              "  </style>\n",
              "\n",
              "    <script>\n",
              "      const buttonEl =\n",
              "        document.querySelector('#df-11f17821-a1db-47c8-81d7-cdd48eb46463 button.colab-df-convert');\n",
              "      buttonEl.style.display =\n",
              "        google.colab.kernel.accessAllowed ? 'block' : 'none';\n",
              "\n",
              "      async function convertToInteractive(key) {\n",
              "        const element = document.querySelector('#df-11f17821-a1db-47c8-81d7-cdd48eb46463');\n",
              "        const dataTable =\n",
              "          await google.colab.kernel.invokeFunction('convertToInteractive',\n",
              "                                                    [key], {});\n",
              "        if (!dataTable) return;\n",
              "\n",
              "        const docLinkHtml = 'Like what you see? Visit the ' +\n",
              "          '<a target=\"_blank\" href=https://colab.research.google.com/notebooks/data_table.ipynb>data table notebook</a>'\n",
              "          + ' to learn more about interactive tables.';\n",
              "        element.innerHTML = '';\n",
              "        dataTable['output_type'] = 'display_data';\n",
              "        await google.colab.output.renderOutput(dataTable, element);\n",
              "        const docLink = document.createElement('div');\n",
              "        docLink.innerHTML = docLinkHtml;\n",
              "        element.appendChild(docLink);\n",
              "      }\n",
              "    </script>\n",
              "  </div>\n",
              "\n",
              "\n",
              "    <div id=\"df-6fbb09c2-ae6f-4cd3-a9f2-c4c2435e40ba\">\n",
              "      <button class=\"colab-df-quickchart\" onclick=\"quickchart('df-6fbb09c2-ae6f-4cd3-a9f2-c4c2435e40ba')\"\n",
              "                title=\"Suggest charts\"\n",
              "                style=\"display:none;\">\n",
              "\n",
              "<svg xmlns=\"http://www.w3.org/2000/svg\" height=\"24px\"viewBox=\"0 0 24 24\"\n",
              "     width=\"24px\">\n",
              "    <g>\n",
              "        <path d=\"M19 3H5c-1.1 0-2 .9-2 2v14c0 1.1.9 2 2 2h14c1.1 0 2-.9 2-2V5c0-1.1-.9-2-2-2zM9 17H7v-7h2v7zm4 0h-2V7h2v10zm4 0h-2v-4h2v4z\"/>\n",
              "    </g>\n",
              "</svg>\n",
              "      </button>\n",
              "\n",
              "<style>\n",
              "  .colab-df-quickchart {\n",
              "      --bg-color: #E8F0FE;\n",
              "      --fill-color: #1967D2;\n",
              "      --hover-bg-color: #E2EBFA;\n",
              "      --hover-fill-color: #174EA6;\n",
              "      --disabled-fill-color: #AAA;\n",
              "      --disabled-bg-color: #DDD;\n",
              "  }\n",
              "\n",
              "  [theme=dark] .colab-df-quickchart {\n",
              "      --bg-color: #3B4455;\n",
              "      --fill-color: #D2E3FC;\n",
              "      --hover-bg-color: #434B5C;\n",
              "      --hover-fill-color: #FFFFFF;\n",
              "      --disabled-bg-color: #3B4455;\n",
              "      --disabled-fill-color: #666;\n",
              "  }\n",
              "\n",
              "  .colab-df-quickchart {\n",
              "    background-color: var(--bg-color);\n",
              "    border: none;\n",
              "    border-radius: 50%;\n",
              "    cursor: pointer;\n",
              "    display: none;\n",
              "    fill: var(--fill-color);\n",
              "    height: 32px;\n",
              "    padding: 0;\n",
              "    width: 32px;\n",
              "  }\n",
              "\n",
              "  .colab-df-quickchart:hover {\n",
              "    background-color: var(--hover-bg-color);\n",
              "    box-shadow: 0 1px 2px rgba(60, 64, 67, 0.3), 0 1px 3px 1px rgba(60, 64, 67, 0.15);\n",
              "    fill: var(--button-hover-fill-color);\n",
              "  }\n",
              "\n",
              "  .colab-df-quickchart-complete:disabled,\n",
              "  .colab-df-quickchart-complete:disabled:hover {\n",
              "    background-color: var(--disabled-bg-color);\n",
              "    fill: var(--disabled-fill-color);\n",
              "    box-shadow: none;\n",
              "  }\n",
              "\n",
              "  .colab-df-spinner {\n",
              "    border: 2px solid var(--fill-color);\n",
              "    border-color: transparent;\n",
              "    border-bottom-color: var(--fill-color);\n",
              "    animation:\n",
              "      spin 1s steps(1) infinite;\n",
              "  }\n",
              "\n",
              "  @keyframes spin {\n",
              "    0% {\n",
              "      border-color: transparent;\n",
              "      border-bottom-color: var(--fill-color);\n",
              "      border-left-color: var(--fill-color);\n",
              "    }\n",
              "    20% {\n",
              "      border-color: transparent;\n",
              "      border-left-color: var(--fill-color);\n",
              "      border-top-color: var(--fill-color);\n",
              "    }\n",
              "    30% {\n",
              "      border-color: transparent;\n",
              "      border-left-color: var(--fill-color);\n",
              "      border-top-color: var(--fill-color);\n",
              "      border-right-color: var(--fill-color);\n",
              "    }\n",
              "    40% {\n",
              "      border-color: transparent;\n",
              "      border-right-color: var(--fill-color);\n",
              "      border-top-color: var(--fill-color);\n",
              "    }\n",
              "    60% {\n",
              "      border-color: transparent;\n",
              "      border-right-color: var(--fill-color);\n",
              "    }\n",
              "    80% {\n",
              "      border-color: transparent;\n",
              "      border-right-color: var(--fill-color);\n",
              "      border-bottom-color: var(--fill-color);\n",
              "    }\n",
              "    90% {\n",
              "      border-color: transparent;\n",
              "      border-bottom-color: var(--fill-color);\n",
              "    }\n",
              "  }\n",
              "</style>\n",
              "\n",
              "      <script>\n",
              "        async function quickchart(key) {\n",
              "          const quickchartButtonEl =\n",
              "            document.querySelector('#' + key + ' button');\n",
              "          quickchartButtonEl.disabled = true;  // To prevent multiple clicks.\n",
              "          quickchartButtonEl.classList.add('colab-df-spinner');\n",
              "          try {\n",
              "            const charts = await google.colab.kernel.invokeFunction(\n",
              "                'suggestCharts', [key], {});\n",
              "          } catch (error) {\n",
              "            console.error('Error during call to suggestCharts:', error);\n",
              "          }\n",
              "          quickchartButtonEl.classList.remove('colab-df-spinner');\n",
              "          quickchartButtonEl.classList.add('colab-df-quickchart-complete');\n",
              "        }\n",
              "        (() => {\n",
              "          let quickchartButtonEl =\n",
              "            document.querySelector('#df-6fbb09c2-ae6f-4cd3-a9f2-c4c2435e40ba button');\n",
              "          quickchartButtonEl.style.display =\n",
              "            google.colab.kernel.accessAllowed ? 'block' : 'none';\n",
              "        })();\n",
              "      </script>\n",
              "    </div>\n",
              "\n",
              "  <div id=\"id_42ed02b7-aba9-4908-ab6f-0a7e73f146ba\">\n",
              "    <style>\n",
              "      .colab-df-generate {\n",
              "        background-color: #E8F0FE;\n",
              "        border: none;\n",
              "        border-radius: 50%;\n",
              "        cursor: pointer;\n",
              "        display: none;\n",
              "        fill: #1967D2;\n",
              "        height: 32px;\n",
              "        padding: 0 0 0 0;\n",
              "        width: 32px;\n",
              "      }\n",
              "\n",
              "      .colab-df-generate:hover {\n",
              "        background-color: #E2EBFA;\n",
              "        box-shadow: 0px 1px 2px rgba(60, 64, 67, 0.3), 0px 1px 3px 1px rgba(60, 64, 67, 0.15);\n",
              "        fill: #174EA6;\n",
              "      }\n",
              "\n",
              "      [theme=dark] .colab-df-generate {\n",
              "        background-color: #3B4455;\n",
              "        fill: #D2E3FC;\n",
              "      }\n",
              "\n",
              "      [theme=dark] .colab-df-generate:hover {\n",
              "        background-color: #434B5C;\n",
              "        box-shadow: 0px 1px 3px 1px rgba(0, 0, 0, 0.15);\n",
              "        filter: drop-shadow(0px 1px 2px rgba(0, 0, 0, 0.3));\n",
              "        fill: #FFFFFF;\n",
              "      }\n",
              "    </style>\n",
              "    <button class=\"colab-df-generate\" onclick=\"generateWithVariable('df')\"\n",
              "            title=\"Generate code using this dataframe.\"\n",
              "            style=\"display:none;\">\n",
              "\n",
              "  <svg xmlns=\"http://www.w3.org/2000/svg\" height=\"24px\"viewBox=\"0 0 24 24\"\n",
              "       width=\"24px\">\n",
              "    <path d=\"M7,19H8.4L18.45,9,17,7.55,7,17.6ZM5,21V16.75L18.45,3.32a2,2,0,0,1,2.83,0l1.4,1.43a1.91,1.91,0,0,1,.58,1.4,1.91,1.91,0,0,1-.58,1.4L9.25,21ZM18.45,9,17,7.55Zm-12,3A5.31,5.31,0,0,0,4.9,8.1,5.31,5.31,0,0,0,1,6.5,5.31,5.31,0,0,0,4.9,4.9,5.31,5.31,0,0,0,6.5,1,5.31,5.31,0,0,0,8.1,4.9,5.31,5.31,0,0,0,12,6.5,5.46,5.46,0,0,0,6.5,12Z\"/>\n",
              "  </svg>\n",
              "    </button>\n",
              "    <script>\n",
              "      (() => {\n",
              "      const buttonEl =\n",
              "        document.querySelector('#id_42ed02b7-aba9-4908-ab6f-0a7e73f146ba button.colab-df-generate');\n",
              "      buttonEl.style.display =\n",
              "        google.colab.kernel.accessAllowed ? 'block' : 'none';\n",
              "\n",
              "      buttonEl.onclick = () => {\n",
              "        google.colab.notebook.generateWithVariable('df');\n",
              "      }\n",
              "      })();\n",
              "    </script>\n",
              "  </div>\n",
              "\n",
              "    </div>\n",
              "  </div>\n"
            ],
            "application/vnd.google.colaboratory.intrinsic+json": {
              "type": "dataframe",
              "variable_name": "df",
              "summary": "{\n  \"name\": \"df\",\n  \"rows\": 3,\n  \"fields\": [\n    {\n      \"column\": \"product\",\n      \"properties\": {\n        \"dtype\": \"string\",\n        \"num_unique_values\": 3,\n        \"samples\": [\n          \"app\",\n          \"website\",\n          \"not_applicable\"\n        ],\n        \"semantic_type\": \"\",\n        \"description\": \"\"\n      }\n    },\n    {\n      \"column\": \"sentiment\",\n      \"properties\": {\n        \"dtype\": \"string\",\n        \"num_unique_values\": 2,\n        \"samples\": [\n          \"negative\",\n          \"positive\"\n        ],\n        \"semantic_type\": \"\",\n        \"description\": \"\"\n      }\n    },\n    {\n      \"column\": \"needs_response\",\n      \"properties\": {\n        \"dtype\": \"boolean\",\n        \"num_unique_values\": 2,\n        \"samples\": [\n          false,\n          true\n        ],\n        \"semantic_type\": \"\",\n        \"description\": \"\"\n      }\n    },\n    {\n      \"column\": \"response\",\n      \"properties\": {\n        \"dtype\": \"string\",\n        \"num_unique_values\": 2,\n        \"samples\": [\n          \"We're so sorry you're having trouble accessing the website! Our team is on it and working hard to get it back up and running. We appreciate your patience!\",\n          \"Thanks so much for the kind words! We're so glad you're enjoying the new design.\"\n        ],\n        \"semantic_type\": \"\",\n        \"description\": \"\"\n      }\n    },\n    {\n      \"column\": \"support_ticket_decsp\",\n      \"properties\": {\n        \"dtype\": \"category\",\n        \"num_unique_values\": 1,\n        \"samples\": [\n          \"User reports website is down.\"\n        ],\n        \"semantic_type\": \"\",\n        \"description\": \"\"\n      }\n    }\n  ]\n}"
            }
          },
          "metadata": {},
          "execution_count": 57
        }
      ]
    },
    {
      "cell_type": "code",
      "source": [
        "mention_json_string = processed_mention.model_dump()\n",
        "print(mention_json_string.get('parsed'))"
      ],
      "metadata": {
        "colab": {
          "base_uri": "https://localhost:8080/"
        },
        "collapsed": true,
        "id": "wtj325CEYRSL",
        "outputId": "6f12a172-6476-4d60-924b-fefef939461c"
      },
      "execution_count": null,
      "outputs": [
        {
          "output_type": "stream",
          "name": "stdout",
          "text": [
            "{'product': 'app', 'sentiment': 'positive', 'needs_response': True, 'response': \"We're so glad you like the new design!\", 'support_ticket_decsp': None}\n"
          ]
        }
      ]
    },
    {
      "cell_type": "markdown",
      "source": [
        "### Try it yourself!"
      ],
      "metadata": {
        "id": "e5TO36C2BMRI"
      }
    },
    {
      "cell_type": "code",
      "source": [
        "class UserPost(BaseModel):\n",
        "  response:str\n",
        "\n",
        "def makePost(output_class):\n",
        "  completion = client.models.generate_content(\n",
        "      model=model,\n",
        "      contents = [\n",
        "          {\"role\": \"model\", \"parts\": [{\"text\":f\"\"\"\n",
        "                You are a customer of Tech Corp (@techcorp), a company\n",
        "                that provides an app and a website. Create a small\n",
        "                microblog-style post to them that sends some kind of\n",
        "                feedback, positive or negative.\n",
        "            \"\"\"}]},\n",
        "            {\"role\": \"user\", \"parts\": [{\"text\":\"Please write a post.\"}]},\n",
        "      ],\n",
        "      config = {\n",
        "          \"response_mime_type\":\"application/json\",\n",
        "          \"response_schema\":output_class\n",
        "      }\n",
        "  )\n",
        "  return completion"
      ],
      "metadata": {
        "id": "8hixVkk54JQQ"
      },
      "execution_count": null,
      "outputs": []
    },
    {
      "cell_type": "code",
      "source": [
        "user_post = makePost(UserPost)\n",
        "user_post.parsed"
      ],
      "metadata": {
        "id": "BAl492qHZxrD",
        "colab": {
          "base_uri": "https://localhost:8080/"
        },
        "outputId": "a6645580-69ea-478e-ccba-d46ca8af3762"
      },
      "execution_count": null,
      "outputs": [
        {
          "output_type": "execute_result",
          "data": {
            "text/plain": [
              "UserPost(response='Love the app, especially the new dark mode! But the website still feels a bit clunky on mobile. Any plans to update it?')"
            ]
          },
          "metadata": {},
          "execution_count": 9
        }
      ]
    },
    {
      "cell_type": "code",
      "source": [
        "class UserPostWithExtras(BaseModel):\n",
        "  user_mood:Literal['evil','bad','awful','good']\n",
        "  product:Literal['app','website','not applicable']\n",
        "  sentiment:Literal['positive','negative','neutral']\n",
        "  internal_monologue:List[str]\n",
        "  response:str\n",
        "\n",
        "new_post = makePost(UserPostWithExtras)\n",
        "new_post.parsed"
      ],
      "metadata": {
        "colab": {
          "base_uri": "https://localhost:8080/"
        },
        "id": "4bIxVFPe5WjS",
        "outputId": "ae07a86d-c469-47e8-acf8-3ce1fd96db32"
      },
      "execution_count": null,
      "outputs": [
        {
          "output_type": "execute_result",
          "data": {
            "text/plain": [
              "UserPostWithExtras(user_mood='bad', product='app', sentiment='negative', internal_monologue=['Ugh, this app update is terrible.', 'Why did they change the layout?', \"It's so confusing now.\", 'I wish they would just revert to the old version.'], response='@techcorp New app update is awful! The layout is confusing and hard to navigate. Please go back to the old version!')"
            ]
          },
          "metadata": {},
          "execution_count": 12
        }
      ]
    }
  ]
}