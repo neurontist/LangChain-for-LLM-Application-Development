{
  "nbformat": 4,
  "nbformat_minor": 0,
  "metadata": {
    "colab": {
      "provenance": [],
      "authorship_tag": "ABX9TyMS7ujoa7R2uWfQNOFhMQGA",
      "include_colab_link": true
    },
    "kernelspec": {
      "name": "python3",
      "display_name": "Python 3"
    },
    "language_info": {
      "name": "python"
    }
  },
  "cells": [
    {
      "cell_type": "markdown",
      "metadata": {
        "id": "view-in-github",
        "colab_type": "text"
      },
      "source": [
        "<a href=\"https://colab.research.google.com/github/neurontist/LangChain-for-LLM-Application-Development/blob/main/L4%20Question%20and%20Answer.ipynb\" target=\"_parent\"><img src=\"https://colab.research.google.com/assets/colab-badge.svg\" alt=\"Open In Colab\"/></a>"
      ]
    },
    {
      "cell_type": "markdown",
      "source": [
        "# LangChain: Q&A over Documents\n",
        "An example might be a tool that would allow you to query a product catalog for items of interest."
      ],
      "metadata": {
        "id": "8eO51-11hxPr"
      }
    },
    {
      "cell_type": "code",
      "source": [
        "!pip install google-ai-generativelanguage==0.6.15\n",
        "!pip install -qU langchain-google-genai\n",
        "!pip install -U langchain-community"
      ],
      "metadata": {
        "colab": {
          "base_uri": "https://localhost:8080/"
        },
        "collapsed": true,
        "id": "lOmcCp4Ti7TF",
        "outputId": "5887f854-e9f1-415b-b34b-234087b52628"
      }
},
    {
      "cell_type": "code",
      "source": [
        "import warnings\n",
        "warnings.filterwarnings('ignore')"
      ],
      "metadata": {
        "id": "rU5GuGzmjL15"
      },
      "execution_count": 2,
      "outputs": []
    },
    {
      "cell_type": "markdown",
      "source": [
        "### Imports"
      ],
      "metadata": {
        "id": "whmE4dmUls6A"
      }
    },
    {
      "cell_type": "code",
      "execution_count": 3,
      "metadata": {
        "id": "cma5wQIiiqdN"
      },
      "outputs": [],
      "source": [
        "import os\n",
        "from google.colab import userdata\n",
        "GOOGLE_API_KEY = userdata.get('GOOGLE_API_KEY')\n"
      ]
    },
    {
      "cell_type": "code",
      "source": [
        "llm_model = \"gemini-1.5-flash\""
      ],
      "metadata": {
        "id": "s3oUgnxXjJab"
      },
      "execution_count": 4,
      "outputs": []
    },
    {
      "cell_type": "code",
      "source": [
        "from langchain.chains import RetrievalQA\n",
        "from langchain_google_genai import ChatGoogleGenerativeAI\n",
        "from langchain.document_loaders import CSVLoader\n",
        "from langchain.vectorstores import DocArrayInMemorySearch\n",
        "from IPython.display import display, Markdown"
      ],
      "metadata": {
        "id": "gI_Y8iGVjJXB"
      },
      "execution_count": 6,
      "outputs": []
    },
    {
      "cell_type": "code",
      "source": [
        "llm = ChatGoogleGenerativeAI(temperature=0,model=llm_model, google_api_key=GOOGLE_API_KEY)"
      ],
      "metadata": {
        "id": "no49DkFvswRX"
      },
      "execution_count": 16,
      "outputs": []
    },
    {
      "cell_type": "code",
      "source": [
        "file = 'OutdoorClothingCatalog_40.csv'\n",
        "loader = CSVLoader(file_path=file)"
      ],
      "metadata": {
        "id": "NdfA1uZpjJU7"
      },
      "execution_count": 17,
      "outputs": []
    },
    {
      "cell_type": "code",
      "source": [
        "from langchain.indexes import VectorstoreIndexCreator\n",
        "from langchain_google_genai import GoogleGenerativeAIEmbeddings # Import OpenAIEmbeddings or any other embedding model"
      ],
      "metadata": {
        "id": "nXGasolkjJSc"
      },
      "execution_count": 18,
      "outputs": []
    },
    {
      "cell_type": "code",
      "source": [
        "!pip install docarray"
      ],
      "metadata": {
        "id": "TMu1qKJIjJQC",
        "colab": {
          "base_uri": "https://localhost:8080/"
        },
        "outputId": "43dda83d-cad4-4ea7-9071-e5fc3c43826e"
      },
      "execution_count": 12,
      "outputs": [
        {
          "output_type": "stream",
          "name": "stdout",
          "text": [
            "Collecting docarray\n",
            "  Downloading docarray-0.41.0-py3-none-any.whl.metadata (36 kB)\n",
            "Requirement already satisfied: numpy>=1.17.3 in /usr/local/lib/python3.11/dist-packages (from docarray) (2.0.2)\n",
            "Requirement already satisfied: orjson>=3.8.2 in /usr/local/lib/python3.11/dist-packages (from docarray) (3.10.18)\n",
            "Requirement already satisfied: pydantic>=1.10.8 in /usr/local/lib/python3.11/dist-packages (from docarray) (2.11.4)\n",
            "Requirement already satisfied: rich>=13.1.0 in /usr/local/lib/python3.11/dist-packages (from docarray) (13.9.4)\n",
            "Collecting types-requests>=2.28.11.6 (from docarray)\n",
            "  Downloading types_requests-2.32.0.20250328-py3-none-any.whl.metadata (2.3 kB)\n",
            "Requirement already satisfied: typing-inspect>=0.8.0 in /usr/local/lib/python3.11/dist-packages (from docarray) (0.9.0)\n",
            "Requirement already satisfied: annotated-types>=0.6.0 in /usr/local/lib/python3.11/dist-packages (from pydantic>=1.10.8->docarray) (0.7.0)\n",
            "Requirement already satisfied: pydantic-core==2.33.2 in /usr/local/lib/python3.11/dist-packages (from pydantic>=1.10.8->docarray) (2.33.2)\n",
            "Requirement already satisfied: typing-extensions>=4.12.2 in /usr/local/lib/python3.11/dist-packages (from pydantic>=1.10.8->docarray) (4.13.2)\n",
            "Requirement already satisfied: typing-inspection>=0.4.0 in /usr/local/lib/python3.11/dist-packages (from pydantic>=1.10.8->docarray) (0.4.0)\n",
            "Requirement already satisfied: markdown-it-py>=2.2.0 in /usr/local/lib/python3.11/dist-packages (from rich>=13.1.0->docarray) (3.0.0)\n",
            "Requirement already satisfied: pygments<3.0.0,>=2.13.0 in /usr/local/lib/python3.11/dist-packages (from rich>=13.1.0->docarray) (2.19.1)\n",
            "Requirement already satisfied: urllib3>=2 in /usr/local/lib/python3.11/dist-packages (from types-requests>=2.28.11.6->docarray) (2.4.0)\n",
            "Requirement already satisfied: mypy-extensions>=0.3.0 in /usr/local/lib/python3.11/dist-packages (from typing-inspect>=0.8.0->docarray) (1.1.0)\n",
            "Requirement already satisfied: mdurl~=0.1 in /usr/local/lib/python3.11/dist-packages (from markdown-it-py>=2.2.0->rich>=13.1.0->docarray) (0.1.2)\n",
            "Downloading docarray-0.41.0-py3-none-any.whl (302 kB)\n",
            "\u001b[2K   \u001b[90m━━━━━━━━━━━━━━━━━━━━━━━━━━━━━━━━━━━━━━━━\u001b[0m \u001b[32m302.8/302.8 kB\u001b[0m \u001b[31m9.1 MB/s\u001b[0m eta \u001b[36m0:00:00\u001b[0m\n",
            "\u001b[?25hDownloading types_requests-2.32.0.20250328-py3-none-any.whl (20 kB)\n",
            "Installing collected packages: types-requests, docarray\n",
            "Successfully installed docarray-0.41.0 types-requests-2.32.0.20250328\n"
          ]
        }
      ]
    },
    {
      "cell_type": "markdown",
      "source": [
        "### Creating a vector store"
      ],
      "metadata": {
        "id": "mLEntfZ1lxgR"
      }
    },
    {
      "cell_type": "code",
      "source": [
        "# For Gemini embeddings\n",
        "index = VectorstoreIndexCreator(\n",
        "    vectorstore_cls=DocArrayInMemorySearch,\n",
        "    embedding=GoogleGenerativeAIEmbeddings(\n",
        "        model=\"models/embedding-001\", # This line is crucial for Gemini embeddings\n",
        "        google_api_key=GOOGLE_API_KEY\n",
        "        ),\n",
        ").from_loaders([loader])"
      ],
      "metadata": {
        "id": "bop-fr71jJNc"
      },
      "execution_count": 20,
      "outputs": []
    },
    {
      "cell_type": "markdown",
      "source": [
        "### Querying the store"
      ],
      "metadata": {
        "id": "xkC4l5Gal2qd"
      }
    },
    {
      "cell_type": "code",
      "source": [
        "query =\"Please list all Cargo Shorts \\\n",
        "in a table in markdown and summarize each one.\""
      ],
      "metadata": {
        "id": "CpWO3Ea8jJK4"
      },
      "execution_count": 21,
      "outputs": []
    },
    {
      "cell_type": "code",
      "source": [
        "response = index.query(query,llm)"
      ],
      "metadata": {
        "id": "Lt3emA1hpcDa"
      },
      "execution_count": 23,
      "outputs": []
    },
    {
      "cell_type": "code",
      "source": [
        "display(Markdown(response))"
      ],
      "metadata": {
        "colab": {
          "base_uri": "https://localhost:8080/",
          "height": 164
        },
        "id": "9w2Uc-tBpcA2",
        "outputId": "6560b3aa-ee80-42d9-cbb4-aa6071529748"
      },
      "execution_count": 24,
      "outputs": [
        {
          "output_type": "display_data",
          "data": {
            "text/plain": [
              "<IPython.core.display.Markdown object>"
            ],
            "text/markdown": "| Product Name | Category | Price | Stock Availability | Rating | Summary |\n|---|---|---|---|---|---|\n| Cargo Shorts | Shirts | 147.38 | Out of Stock | 1.1 | Cargo shorts categorized under shirts, priced at 147.38, out of stock, and has a low rating of 1.1. |\n| Cargo Shorts | Accessories | 171.46 | Out of Stock | 3.9 | Cargo shorts categorized under accessories, priced at 171.46, out of stock, and has a rating of 3.9. |"
          },
          "metadata": {}
        }
      ]
    },
    {
      "cell_type": "markdown",
      "source": [
        "# Step-by-Step\n",
        "\n",
        "What happening inside the function?"
      ],
      "metadata": {
        "id": "gFqprCep4IGT"
      }
    },
    {
      "cell_type": "code",
      "source": [
        "from langchain.document_loaders import CSVLoader\n",
        "loader = CSVLoader(file_path=file)"
      ],
      "metadata": {
        "id": "wG97anyJpb-D"
      },
      "execution_count": 25,
      "outputs": []
    },
    {
      "cell_type": "code",
      "source": [
        "docs = loader.load()"
      ],
      "metadata": {
        "id": "7v-S0Pao4WU5"
      },
      "execution_count": 26,
      "outputs": []
    },
    {
      "cell_type": "code",
      "source": [
        "docs[0]"
      ],
      "metadata": {
        "colab": {
          "base_uri": "https://localhost:8080/"
        },
        "id": "2Fp22vtT4WSF",
        "outputId": "6985aada-f398-4079-f0d0-8082d84ae32a"
      },
      "execution_count": 27,
      "outputs": [
        {
          "output_type": "execute_result",
          "data": {
            "text/plain": [
              "Document(metadata={'source': 'OutdoorClothingCatalog_40.csv', 'row': 0}, page_content='Product Name: Fleece Jacket\\nCategory: Gloves\\nPrice: 109.18\\nStock Availability: In Stock\\nRating: 4.6')"
            ]
          },
          "metadata": {},
          "execution_count": 27
        }
      ]
    },
    {
      "cell_type": "markdown",
      "source": [
        "### Embeddings"
      ],
      "metadata": {
        "id": "PIscywKomQs2"
      }
    },
    {
      "cell_type": "code",
      "source": [
        "from langchain_google_genai import GoogleGenerativeAIEmbeddings\n",
        "embeddings = GoogleGenerativeAIEmbeddings(\n",
        "    model=\"models/embedding-001\",\n",
        "    google_api_key=GOOGLE_API_KEY\n",
        ")"
      ],
      "metadata": {
        "id": "CkpDSowv4WPk"
      },
      "execution_count": 30,
      "outputs": []
    },
    {
      "cell_type": "code",
      "source": [
        "embed = embeddings.embed_query(\"Hi my name is Aliza\")"
      ],
      "metadata": {
        "id": "iN-nlmTL4WM7"
      },
      "execution_count": 31,
      "outputs": []
    },
    {
      "cell_type": "code",
      "source": [
        "print(len(embed))"
      ],
      "metadata": {
        "colab": {
          "base_uri": "https://localhost:8080/"
        },
        "id": "zwwzEwwu4WKj",
        "outputId": "eb210eca-0b08-4dbd-a8ec-b7c26ea68ce7"
      },
      "execution_count": 32,
      "outputs": [
        {
          "output_type": "stream",
          "name": "stdout",
          "text": [
            "768\n"
          ]
        }
      ]
    },
    {
      "cell_type": "code",
      "source": [
        "print(embed[:10])"
      ],
      "metadata": {
        "colab": {
          "base_uri": "https://localhost:8080/"
        },
        "id": "LHiuCidT4WH1",
        "outputId": "8427144e-6b7a-430f-a499-08ccd860104d"
      },
      "execution_count": 33,
      "outputs": [
        {
          "output_type": "stream",
          "name": "stdout",
          "text": [
            "[0.06501401960849762, -0.0124604357406497, -0.02235284075140953, -0.0012815361842513084, 0.0494811087846756, 0.020269669592380524, 0.019435198977589607, -0.04467032477259636, 0.0009282553219236434, -0.005009533371776342]\n"
          ]
        }
      ]
    },
    {
      "cell_type": "markdown",
      "source": [
        "### Using DocArrayInMemorySearch"
      ],
      "metadata": {
        "id": "14kkkJkzmTtC"
      }
    },
    {
      "cell_type": "code",
      "source": [
        "db = DocArrayInMemorySearch.from_documents(\n",
        "    docs,\n",
        "    embeddings\n",
        ")"
      ],
      "metadata": {
        "id": "ugyb0URH4Vlf"
      },
      "execution_count": 34,
      "outputs": []
    },
    {
      "cell_type": "code",
      "source": [
        "query = \"Please find a Beanie Hat which is out of stock and it's category \""
      ],
      "metadata": {
        "id": "Up8gRY-_5heW"
      },
      "execution_count": 35,
      "outputs": []
    },
    {
      "cell_type": "code",
      "source": [
        "docs = db.similarity_search(query)"
      ],
      "metadata": {
        "id": "dYNbOuro5iPm"
      },
      "execution_count": 36,
      "outputs": []
    },
    {
      "cell_type": "code",
      "source": [
        "len(docs)"
      ],
      "metadata": {
        "colab": {
          "base_uri": "https://localhost:8080/"
        },
        "id": "wFhUHYE85iMX",
        "outputId": "c38141c4-b6d4-47e0-b7bb-07cc9372fedf"
      },
      "execution_count": 37,
      "outputs": [
        {
          "output_type": "execute_result",
          "data": {
            "text/plain": [
              "4"
            ]
          },
          "metadata": {},
          "execution_count": 37
        }
      ]
    },
    {
      "cell_type": "code",
      "source": [
        "docs[0]"
      ],
      "metadata": {
        "colab": {
          "base_uri": "https://localhost:8080/"
        },
        "id": "aHQyFWBQ5iJ0",
        "outputId": "81cc1381-47eb-461f-9a52-40c478c65a9d"
      },
      "execution_count": 38,
      "outputs": [
        {
          "output_type": "execute_result",
          "data": {
            "text/plain": [
              "Document(metadata={'source': 'OutdoorClothingCatalog_40.csv', 'row': 34}, page_content='Product Name: Beanie Hat\\nCategory: Gloves\\nPrice: 284.52\\nStock Availability: Out of Stock\\nRating: 4.8')"
            ]
          },
          "metadata": {},
          "execution_count": 38
        }
      ]
    },
    {
      "cell_type": "markdown",
      "source": [
        "### Calling the retriever()"
      ],
      "metadata": {
        "id": "SMZ0bKJTmaEU"
      }
    },
    {
      "cell_type": "code",
      "source": [
        "retriever = db.as_retriever()"
      ],
      "metadata": {
        "id": "RtGZIPFf6UMK"
      },
      "execution_count": 39,
      "outputs": []
    },
    {
      "cell_type": "code",
      "source": [
        "qdocs = \"\".join([docs[i].page_content for i in range(len(docs))])\n"
      ],
      "metadata": {
        "id": "gPA3ETIf7AKd"
      },
      "execution_count": 40,
      "outputs": []
    },
    {
      "cell_type": "code",
      "source": [
        "response = llm.invoke(f\"{qdocs} Question: Please list all your \\\n",
        "Beanie Hat in a table in markdown and summarize each one.\")\n"
      ],
      "metadata": {
        "id": "uH0LcrM-7AHA"
      },
      "execution_count": 42,
      "outputs": []
    },
    {
      "cell_type": "code",
      "source": [
        "display(Markdown(response.content))"
      ],
      "metadata": {
        "colab": {
          "base_uri": "https://localhost:8080/",
          "height": 112
        },
        "id": "yStPe11l7AEd",
        "outputId": "42910fc6-a76f-49c4-916d-59d07adb3205"
      },
      "execution_count": 44,
      "outputs": [
        {
          "output_type": "display_data",
          "data": {
            "text/plain": [
              "<IPython.core.display.Markdown object>"
            ],
            "text/markdown": "| Product Name | Category | Price | Stock Availability | Rating | Summary |\n|---|---|---|---|---|---|\n| Beanie Hat | Gloves | 284.52 | Out of Stock | 4.8 | An expensive beanie hat, highly rated but currently unavailable. |\n| Beanie Hat | Jackets | 221.88 | In Stock | 3.1 | A moderately priced beanie hat categorized under jackets, with a lower rating. |"
          },
          "metadata": {}
        }
      ]
    },
    {
      "cell_type": "markdown",
      "source": [
        "### Querying the retrieved docs through embeddings"
      ],
      "metadata": {
        "id": "AaEq95ZTmfNO"
      }
    },
    {
      "cell_type": "code",
      "source": [
        "qa_stuff = RetrievalQA.from_chain_type(\n",
        "    llm=llm,\n",
        "    chain_type=\"stuff\",\n",
        "    retriever=retriever,\n",
        "    verbose=True\n",
        ")"
      ],
      "metadata": {
        "id": "Cs1Yvc9a7ACk"
      },
      "execution_count": 45,
      "outputs": []
    },
    {
      "cell_type": "code",
      "source": [
        "query =  \"Please list all your \\\n",
        "Beanie Hat in a table in markdown and summarize each one. \""
      ],
      "metadata": {
        "id": "iH730wg66__Q"
      },
      "execution_count": 46,
      "outputs": []
    },
    {
      "cell_type": "code",
      "source": [
        "response = qa_stuff.run(query)"
      ],
      "metadata": {
        "colab": {
          "base_uri": "https://localhost:8080/"
        },
        "id": "SRYrr9Z_6_V7",
        "outputId": "170eaaf1-dcef-453f-988c-5181dae474c8"
      },
      "execution_count": 47,
      "outputs": [
        {
          "output_type": "stream",
          "name": "stderr",
          "text": [
            "<ipython-input-47-86a6164ed552>:1: LangChainDeprecationWarning: The method `Chain.run` was deprecated in langchain 0.1.0 and will be removed in 1.0. Use :meth:`~invoke` instead.\n",
            "  response = qa_stuff.run(query)\n"
          ]
        },
        {
          "output_type": "stream",
          "name": "stdout",
          "text": [
            "\n",
            "\n",
            "\u001b[1m> Entering new RetrievalQA chain...\u001b[0m\n",
            "\n",
            "\u001b[1m> Finished chain.\u001b[0m\n"
          ]
        }
      ]
    },
    {
      "cell_type": "code",
      "source": [
        "display(Markdown(response))"
      ],
      "metadata": {
        "colab": {
          "base_uri": "https://localhost:8080/",
          "height": 172
        },
        "id": "vIV_aL_M7_Xw",
        "outputId": "e22182ea-faac-4712-c4a5-a0632ff6729d"
      },
      "execution_count": 48,
      "outputs": [
        {
          "output_type": "display_data",
          "data": {
            "text/plain": [
              "<IPython.core.display.Markdown object>"
            ],
            "text/markdown": "| Product Name | Category | Price | Stock Availability | Rating | Summary |\n|---|---|---|---|---|---|\n| Beanie Hat | Jackets | $221.88 | In Stock | 3.1 | A beanie hat categorized under jackets, priced at $221.88, currently in stock with a 3.1 rating. |\n| Beanie Hat | Gloves | $284.52 | Out of Stock | 4.8 | A beanie hat categorized under gloves, priced at $284.52, currently out of stock with a 4.8 rating. |"
          },
          "metadata": {}
        }
      ]
    },
    {
      "cell_type": "markdown",
      "source": [
        "### Above same achieved in 2 steps"
      ],
      "metadata": {
        "id": "mwR9CTBRmoXb"
      }
    },
    {
      "cell_type": "code",
      "source": [
        "index = VectorstoreIndexCreator(\n",
        "    vectorstore_cls=DocArrayInMemorySearch,\n",
        "    embedding=embeddings,\n",
        ").from_loaders([loader])"
      ],
      "metadata": {
        "id": "W-iYVcXw8Fh2"
      },
      "execution_count": 49,
      "outputs": []
    },
    {
      "cell_type": "code",
      "source": [
        "response = index.query(query, llm=llm)\n",
        "display(Markdown(response))"
      ],
      "metadata": {
        "id": "3wMCcCo68BWe",
        "colab": {
          "base_uri": "https://localhost:8080/",
          "height": 172
        },
        "outputId": "761e7d7c-1235-4f97-f8a1-12f68c7fa8b3"
      },
      "execution_count": 55,
      "outputs": [
        {
          "output_type": "display_data",
          "data": {
            "text/plain": [
              "<IPython.core.display.Markdown object>"
            ],
            "text/markdown": "| Product Name | Category | Price | Stock Availability | Rating | Summary |\n|---|---|---|---|---|---|\n| Beanie Hat | Jackets | $221.88 | In Stock | 3.1 | A beanie hat categorized under jackets, priced at $221.88, currently in stock with a 3.1 rating. |\n| Beanie Hat | Gloves | $284.52 | Out of Stock | 4.8 | A beanie hat categorized under gloves, priced at $284.52, currently out of stock with a 4.8 rating. |"
          },
          "metadata": {}
        }
      ]
    },
    {
      "cell_type": "code",
      "source": [],
      "metadata": {
        "id": "HoER1Kcs8HRZ"
      },
      "execution_count": null,
      "outputs": []
    }
  ]
}
